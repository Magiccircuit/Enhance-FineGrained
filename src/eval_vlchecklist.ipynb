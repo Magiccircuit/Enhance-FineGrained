{
 "cells": [
  {
   "cell_type": "code",
   "execution_count": 2,
   "metadata": {},
   "outputs": [],
   "source": [
    "import glob\n",
    "import logging\n",
    "import os\n",
    "import re\n",
    "import subprocess\n",
    "import sys\n",
    "import random\n",
    "from datetime import datetime\n",
    "\n",
    "import numpy as np\n",
    "\n",
    "\n",
    "\n",
    "from open_clip import create_model_and_transforms, trace_model, get_tokenizer\n",
    "from training.file_utils import pt_load, check_exists, start_sync_process, remote_sync\n",
    "from open_clip import create_model_and_transforms, trace_model, get_tokenizer\n",
    "\n",
    "from tqdm import tqdm\n",
    "import yaml\n",
    "import os \n",
    "import random\n",
    "import time\n",
    "import json\n",
    "LATEST_CHECKPOINT_NAME = \"epoch_latest.pt\""
   ]
  },
  {
   "cell_type": "code",
   "execution_count": 3,
   "metadata": {},
   "outputs": [],
   "source": [
    "model, preprocess_train, preprocess_val = create_model_and_transforms(\n",
    "        \"ViT-B-32\",\n",
    "        \"openai\",)\n",
    "# checkpoint = pt_load('/home/mila/l/le.zhang/scratch/open_clip/src/Outputs/rank-discriminative-5e-06-weight0.2/checkpoints/epoch_5.pt', map_location='cpu')\n",
    "# if 'epoch' in checkpoint:\n",
    "#     # resuming a train checkpoint w/ epoch and optimizer state\n",
    "#     start_epoch = checkpoint[\"epoch\"]\n",
    "#     sd = checkpoint[\"state_dict\"]\n",
    "#     if next(iter(sd.items()))[0].startswith('module'):\n",
    "#         sd = {k[len('module.'):]: v for k, v in sd.items()}\n",
    "#     model.load_state_dict(sd)\n",
    "tokenizer=get_tokenizer(\"ViT-B-32\")"
   ]
  },
  {
   "cell_type": "code",
   "execution_count": 6,
   "metadata": {},
   "outputs": [
    {
     "data": {
      "text/plain": [
       "tensor([[49406,     2, 15483, 49407,     0,     0,     0,     0,     0,     0,\n",
       "             0,     0,     0,     0,     0,     0,     0,     0,     0,     0,\n",
       "             0,     0,     0,     0,     0,     0,     0,     0,     0,     0,\n",
       "             0,     0,     0,     0,     0,     0,     0,     0,     0,     0,\n",
       "             0,     0,     0,     0,     0,     0,     0,     0,     0,     0,\n",
       "             0,     0,     0,     0,     0,     0,     0,     0,     0,     0,\n",
       "             0,     0,     0,     0,     0,     0,     0,     0,     0,     0,\n",
       "             0,     0,     0,     0,     0,     0,     0]])"
      ]
     },
     "execution_count": 6,
     "metadata": {},
     "output_type": "execute_result"
    }
   ],
   "source": [
    "tokenizer('###')"
   ]
  },
  {
   "cell_type": "code",
   "execution_count": null,
   "metadata": {},
   "outputs": [],
   "source": [
    "from open_clip.tokenizer import SimpleTokenizer\n",
    "import torch\n",
    "_tokenizer = SimpleTokenizer()\n",
    "# def decode(output_ids: torch.Tensor):\n",
    "#     output_ids = output_ids.cpu().numpy()\n",
    "#     return _tokenizer.decode(output_ids)\n",
    "_tokenizer.decode(tokenizer('###'))"
   ]
  },
  {
   "cell_type": "code",
   "execution_count": 35,
   "metadata": {},
   "outputs": [
    {
     "data": {
      "text/plain": [
       "'<end_of_text>'"
      ]
     },
     "execution_count": 35,
     "metadata": {},
     "output_type": "execute_result"
    }
   ],
   "source": [
    "_tokenizer.decoder[49407]"
   ]
  },
  {
   "cell_type": "code",
   "execution_count": 105,
   "metadata": {},
   "outputs": [
    {
     "name": "stdout",
     "output_type": "stream",
     "text": [
      "data/Attribute/vg/color.json\n"
     ]
    }
   ],
   "source": [
    "from vl_checklist.data_loader import DataLoader\n",
    "config_file=\"/home/mila/l/le.zhang/scratch/open_clip/src/VL-CheckList/configs/sample.yaml\"\n",
    "m = yaml.load(open(config_file, 'r'), Loader=yaml.FullLoader)\n",
    "batch_size = m[\"BATCH_SIZE\"]\n",
    "model = model                   \n",
    "max_num = m[\"MAX_NUM\"]\n",
    "data_names = m[\"DATA\"][\"TEST_DATA\"]\n",
    "task = m[\"TASK\"]\n",
    "types = m[\"DATA\"][\"TYPES\"]\n",
    "dir = m[\"OUTPUT\"][\"DIR\"]\n",
    "sample_num = m[\"OUTPUT\"][\"NUM\"]\n",
    "data_type=types[0]\n"
   ]
  },
  {
   "cell_type": "code",
   "execution_count": 116,
   "metadata": {},
   "outputs": [
    {
     "name": "stderr",
     "output_type": "stream",
     "text": [
      "Progress: 2893it [03:49, 12.63it/s]                                                                 \n"
     ]
    }
   ],
   "source": [
    "import torch\n",
    "from PIL import Image\n",
    "results = {}\n",
    "index = 0\n",
    "batch_size=8\n",
    "cur_dir=\"./\"\n",
    "device='cuda'\n",
    "model.to(device)\n",
    "results={}\n",
    "max_number=None\n",
    "for \n",
    "d= DataLoader(data_names, data_type, task)\n",
    "if task == 'itm':\n",
    "    for name in d.data:\n",
    "        results[name]=[]\n",
    "        sample_true = []\n",
    "        sample_false = []\n",
    "        # true false positive negative\n",
    "        tp, tn, fp, fn = 0, 0, 0, 0\n",
    "        if max_number:\n",
    "            d.data[name] = d.data[name][:max_number]\n",
    "        len_data=len(d.data[name])//2\n",
    "        starttime = time.time()\n",
    "        for batch in tqdm(chunks(d.data[name], batch_size), desc=\"Progress\", ncols=100,\n",
    "                        total=int(len(d.data[name]) / batch_size)):\n",
    "            images = [z[\"path\"] for z in batch]\n",
    "            images=images[::2]\n",
    "            texts = [z[\"texts\"][0] for z in batch]\n",
    "            b=2\n",
    "            t=[]\n",
    "            for i in range(0,len(texts),2):\n",
    "               t.append(texts[i:i+b])\n",
    "            # texts = [random.choice(z[\"texts\"]) for z in batch]\n",
    "            labels = [z[\"label\"] for z in batch]\n",
    "            for j in range(len(images)):\n",
    "                image = preprocess_train(Image.open(images[j])).unsqueeze(0).to(device)\n",
    "                # text format is [[\"there is a cat\",\"there is a dog\"],[...,...]...]\n",
    "                text = tokenizer(t[j]).to(device)\n",
    "\n",
    "                with torch.no_grad():\n",
    "                \n",
    "                    image_features = model.encode_image(image)\n",
    "                    text_features = model.encode_text(text)\n",
    "                    image_features /= image_features.norm(dim=-1, keepdim=True)\n",
    "                    text_features /= text_features.norm(dim=-1, keepdim=True)\n",
    "\n",
    "                    logits_per_image = (100.0 * image_features @ text_features.T).softmax(dim=-1)\n",
    "                    prob=logits_per_image.softmax(dim=-1).cpu().numpy()[0]\n",
    "                    results[name].append(1 if prob[0]>prob[1] else 0)\n",
    "        endtime = time.time()\n",
    "   \n",
    "       \n",
    "      "
   ]
  },
  {
   "cell_type": "code",
   "execution_count": 114,
   "metadata": {},
   "outputs": [
    {
     "data": {
      "text/plain": [
       "0.6254646036822543"
      ]
     },
     "execution_count": 114,
     "metadata": {},
     "output_type": "execute_result"
    }
   ],
   "source": [
    "sum(results['vg'])/len_data"
   ]
  },
  {
   "cell_type": "code",
   "execution_count": 117,
   "metadata": {},
   "outputs": [
    {
     "data": {
      "text/plain": [
       "0.6681649235024635"
      ]
     },
     "execution_count": 117,
     "metadata": {},
     "output_type": "execute_result"
    }
   ],
   "source": [
    "sum(results['vg'])/len_data"
   ]
  },
  {
   "cell_type": "code",
   "execution_count": 5,
   "metadata": {},
   "outputs": [],
   "source": [
    "A=None\n"
   ]
  },
  {
   "cell_type": "code",
   "execution_count": 1,
   "metadata": {},
   "outputs": [],
   "source": [
    "import torch"
   ]
  },
  {
   "cell_type": "code",
   "execution_count": 6,
   "metadata": {},
   "outputs": [],
   "source": [
    "a=torch.tensor([3,100,2,1])"
   ]
  },
  {
   "cell_type": "code",
   "execution_count": 7,
   "metadata": {},
   "outputs": [
    {
     "data": {
      "text/plain": [
       "tensor([3, 5, 2, 1])"
      ]
     },
     "execution_count": 7,
     "metadata": {},
     "output_type": "execute_result"
    }
   ],
   "source": [
    "torch.clamp(a,0,5)"
   ]
  },
  {
   "cell_type": "code",
   "execution_count": null,
   "metadata": {},
   "outputs": [],
   "source": []
  }
 ],
 "metadata": {
  "kernelspec": {
   "display_name": "flava",
   "language": "python",
   "name": "python3"
  },
  "language_info": {
   "codemirror_mode": {
    "name": "ipython",
    "version": 3
   },
   "file_extension": ".py",
   "mimetype": "text/x-python",
   "name": "python",
   "nbconvert_exporter": "python",
   "pygments_lexer": "ipython3",
   "version": "3.9.13"
  },
  "orig_nbformat": 4,
  "vscode": {
   "interpreter": {
    "hash": "a9b74d4c44251c324056d7f77d83f3cebcea19fa1b3b3c6782527d20c9ffa6df"
   }
  }
 },
 "nbformat": 4,
 "nbformat_minor": 2
}
