{
 "cells": [
  {
   "cell_type": "code",
   "execution_count": 2,
   "metadata": {},
   "outputs": [],
   "source": [
    "import numpy as np\n",
    "\n",
    "data = np.load('/home/mila/l/le.zhang/scratch/github_clone/Enhance-FineGrained/data/generated_data/coco_train/processed_dataset0.npy', allow_pickle=True)"
   ]
  },
  {
   "cell_type": "code",
   "execution_count": 15,
   "metadata": {},
   "outputs": [
    {
     "data": {
      "text/plain": [
       "{'image_id': 476220,\n",
       " 'id': 314,\n",
       " 'caption': 'An empty kitchen with white and black appliances.',\n",
       " 'relation_aug_caption': '###',\n",
       " 'adj_aug_caption': 'An interior kitchen with white and black appliances.',\n",
       " 'noun_aug_caption': 'An empty room with white and black appliances.',\n",
       " 'verb_aug_caption': '###',\n",
       " 'valid_caption': [1, 0, 1, 1, 0]}"
      ]
     },
     "execution_count": 15,
     "metadata": {},
     "output_type": "execute_result"
    }
   ],
   "source": [
    "data[10]"
   ]
  },
  {
   "cell_type": "code",
   "execution_count": null,
   "metadata": {},
   "outputs": [],
   "source": []
  }
 ],
 "metadata": {
  "kernelspec": {
   "display_name": "openflamingo",
   "language": "python",
   "name": "python3"
  },
  "language_info": {
   "codemirror_mode": {
    "name": "ipython",
    "version": 3
   },
   "file_extension": ".py",
   "mimetype": "text/x-python",
   "name": "python",
   "nbconvert_exporter": "python",
   "pygments_lexer": "ipython3",
   "version": "3.9.16"
  }
 },
 "nbformat": 4,
 "nbformat_minor": 2
}
