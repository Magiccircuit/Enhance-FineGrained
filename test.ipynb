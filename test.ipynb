{
 "cells": [
  {
   "cell_type": "code",
   "execution_count": 5,
   "metadata": {},
   "outputs": [],
   "source": [
    "import torch\n",
    "from torch.utils.data import Dataset\n",
    "import glob\n",
    "import os"
   ]
  },
  {
   "cell_type": "code",
   "execution_count": 4,
   "metadata": {},
   "outputs": [],
   "source": [
    "class NpyDataset(Dataset):\n",
    "    def __init__(self,samples_path,transforms=None,train_num_samples=None,tokenizer=None):\n",
    "        if 'coco' in samples_path:\n",
    "            self.data='coco'\n",
    "        else:\n",
    "            self.data='cc3m'\n",
    "        if os.path.isdir(samples_path):\n",
    "            # load and merge all splited files in the dir\n",
    "            data_file_splits=glob.glob(os.path.join(samples_path,'*.npy'))\n",
    "            print(f'merging {len(data_file_splits)} splied files from {samples_path}')\n",
    "            self.samples=[]\n",
    "            for file_split in data_file_splits:\n",
    "                self.samples.extend(self.loadList(file_split))\n",
    "        else:\n",
    "            # load single splited file fiven the path\n",
    "            self.samples=self.loadList(samples_path)\n",
    "        if train_num_samples:\n",
    "            self.samples=self.samples[:train_num_samples]\n",
    "        self.transforms = transforms\n",
    "        self.tokenize = tokenizer\n",
    "    def loadList(self,file_path):\n",
    "        # the filename should mention the extension '.npy'\n",
    "        tempNumpyArray=np.load(file_path,allow_pickle=True)\n",
    "        return tempNumpyArray.tolist()\n",
    "    def __len__(self):\n",
    "        return len(self.samples)\n",
    "    def __getitem__(self,index):\n",
    "        texts=torch.stack([self.tokenize([str(self.samples[index]['caption'])])[0],\n",
    "        self.tokenize([str(self.samples[index]['relation_aug_caption'])])[0],\n",
    "        self.tokenize([str(self.samples[index]['adj_aug_caption'])])[0],\n",
    "        self.tokenize([str(self.samples[index]['noun_aug_caption'])])[0],\n",
    "        self.tokenize([str(self.samples[index]['verb_aug_caption'])])[0]])\n",
    "        if self.data=='coco':\n",
    "            image_id=self.samples[index]['image_id']\n",
    "            image_path=os.path.join(COCO_DATASET_ROOT,'train2014',f\"COCO_train2014_{'0'*(12-len(str(image_id)))}{image_id}.jpg\")\n",
    "            images = self.transforms(Image.open(image_path).convert(\"RGB\"))\n",
    "        else:\n",
    "            images = self.transforms(Image.open(str(self.samples[index]['image_path'])).convert(\"RGB\"))\n",
    "        valid_caption_mask=torch.tensor(self.samples[index]['valid_caption'])\n",
    "        return images, texts, valid_caption_mask\n"
   ]
  },
  {
   "cell_type": "code",
   "execution_count": 12,
   "metadata": {},
   "outputs": [],
   "source": [
    "import numpy as np\n",
    "tempNumpyArray=np.load(\"/home/mila/l/le.zhang/scratch/winonground/data/processed_dataset/coco2014/processed_dataset1.npy\",allow_pickle=True)"
   ]
  },
  {
   "cell_type": "code",
   "execution_count": 14,
   "metadata": {},
   "outputs": [
    {
     "data": {
      "text/plain": [
       "({'image_id': 131060,\n",
       "  'id': 431313,\n",
       "  'caption': 'A teddy bear perched on a tree branch looking downward.',\n",
       "  'relation_aug_caption': 'A bear teddy perched on a tree branch looking downward.',\n",
       "  'adj_aug_caption': '###',\n",
       "  'noun_aug_caption': 'A teddy Bear perched on a tree branch looking downward.',\n",
       "  'verb_aug_caption': 'A teddy bear perched on a tree branch looks downward.',\n",
       "  'valid_caption': [1, 1, 0, 1, 1]},\n",
       " {'image_id': 272196,\n",
       "  'id': 431342,\n",
       "  'caption': 'A pile of rocks stacked on the top of a toilet seat.',\n",
       "  'relation_aug_caption': 'A rocks of pile stacked on the top of a toilet seat.',\n",
       "  'adj_aug_caption': '###',\n",
       "  'noun_aug_caption': 'A pile of rocks stacked on the top of a bench seat.',\n",
       "  'verb_aug_caption': 'A pile of rocks perched on the top of a toilet seat.',\n",
       "  'valid_caption': [1, 1, 0, 1, 1]},\n",
       " {'image_id': 521165,\n",
       "  'id': 431368,\n",
       "  'caption': 'A small engine plane gearing up for take off.',\n",
       "  'relation_aug_caption': '###',\n",
       "  'adj_aug_caption': 'A diesel engine plane gearing up for take off.',\n",
       "  'noun_aug_caption': 'A small engine trailer gearing up for take off.',\n",
       "  'verb_aug_caption': 'A small engine plane gearing up for blast off.',\n",
       "  'valid_caption': [1, 0, 1, 1, 1]})"
      ]
     },
     "execution_count": 14,
     "metadata": {},
     "output_type": "execute_result"
    }
   ],
   "source": [
    "tempNumpyArray[0],tempNumpyArray[1],tempNumpyArray[2]"
   ]
  },
  {
   "cell_type": "code",
   "execution_count": null,
   "metadata": {},
   "outputs": [],
   "source": []
  }
 ],
 "metadata": {
  "kernelspec": {
   "display_name": "flava",
   "language": "python",
   "name": "python3"
  },
  "language_info": {
   "codemirror_mode": {
    "name": "ipython",
    "version": 3
   },
   "file_extension": ".py",
   "mimetype": "text/x-python",
   "name": "python",
   "nbconvert_exporter": "python",
   "pygments_lexer": "ipython3",
   "version": "3.9.12"
  },
  "orig_nbformat": 4,
  "vscode": {
   "interpreter": {
    "hash": "a9b74d4c44251c324056d7f77d83f3cebcea19fa1b3b3c6782527d20c9ffa6df"
   }
  }
 },
 "nbformat": 4,
 "nbformat_minor": 2
}
